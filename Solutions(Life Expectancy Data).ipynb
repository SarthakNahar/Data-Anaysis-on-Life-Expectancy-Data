{
 "cells": [
  {
   "cell_type": "code",
   "execution_count": 44,
   "metadata": {},
   "outputs": [
    {
     "data": {
      "text/html": [
       "<div>\n",
       "<style scoped>\n",
       "    .dataframe tbody tr th:only-of-type {\n",
       "        vertical-align: middle;\n",
       "    }\n",
       "\n",
       "    .dataframe tbody tr th {\n",
       "        vertical-align: top;\n",
       "    }\n",
       "\n",
       "    .dataframe thead th {\n",
       "        text-align: right;\n",
       "    }\n",
       "</style>\n",
       "<table border=\"1\" class=\"dataframe\">\n",
       "  <thead>\n",
       "    <tr style=\"text-align: right;\">\n",
       "      <th></th>\n",
       "      <th>Country</th>\n",
       "      <th>Year</th>\n",
       "      <th>Status</th>\n",
       "      <th>Life expectancy</th>\n",
       "      <th>Adult Mortality</th>\n",
       "      <th>infant deaths</th>\n",
       "      <th>Alcohol</th>\n",
       "      <th>percentage expenditure</th>\n",
       "      <th>Hepatitis B</th>\n",
       "      <th>Measles</th>\n",
       "      <th>...</th>\n",
       "      <th>Polio</th>\n",
       "      <th>Total expenditure</th>\n",
       "      <th>Diphtheria</th>\n",
       "      <th>HIV/AIDS</th>\n",
       "      <th>GDP</th>\n",
       "      <th>Population</th>\n",
       "      <th>thinness  1-19 years</th>\n",
       "      <th>thinness 5-9 years</th>\n",
       "      <th>Income composition of resources</th>\n",
       "      <th>Schooling</th>\n",
       "    </tr>\n",
       "  </thead>\n",
       "  <tbody>\n",
       "    <tr>\n",
       "      <th>0</th>\n",
       "      <td>Afghanistan</td>\n",
       "      <td>2015</td>\n",
       "      <td>Developing</td>\n",
       "      <td>65.0</td>\n",
       "      <td>263.0</td>\n",
       "      <td>62</td>\n",
       "      <td>0.01</td>\n",
       "      <td>71.279624</td>\n",
       "      <td>65.0</td>\n",
       "      <td>1154</td>\n",
       "      <td>...</td>\n",
       "      <td>6.0</td>\n",
       "      <td>8.16</td>\n",
       "      <td>65.0</td>\n",
       "      <td>0.1</td>\n",
       "      <td>584.259210</td>\n",
       "      <td>33736494.0</td>\n",
       "      <td>17.2</td>\n",
       "      <td>17.3</td>\n",
       "      <td>0.479</td>\n",
       "      <td>10.1</td>\n",
       "    </tr>\n",
       "    <tr>\n",
       "      <th>1</th>\n",
       "      <td>Afghanistan</td>\n",
       "      <td>2014</td>\n",
       "      <td>Developing</td>\n",
       "      <td>59.9</td>\n",
       "      <td>271.0</td>\n",
       "      <td>64</td>\n",
       "      <td>0.01</td>\n",
       "      <td>73.523582</td>\n",
       "      <td>62.0</td>\n",
       "      <td>492</td>\n",
       "      <td>...</td>\n",
       "      <td>58.0</td>\n",
       "      <td>8.18</td>\n",
       "      <td>62.0</td>\n",
       "      <td>0.1</td>\n",
       "      <td>612.696514</td>\n",
       "      <td>327582.0</td>\n",
       "      <td>17.5</td>\n",
       "      <td>17.5</td>\n",
       "      <td>0.476</td>\n",
       "      <td>10.0</td>\n",
       "    </tr>\n",
       "    <tr>\n",
       "      <th>2</th>\n",
       "      <td>Afghanistan</td>\n",
       "      <td>2013</td>\n",
       "      <td>Developing</td>\n",
       "      <td>59.9</td>\n",
       "      <td>268.0</td>\n",
       "      <td>66</td>\n",
       "      <td>0.01</td>\n",
       "      <td>73.219243</td>\n",
       "      <td>64.0</td>\n",
       "      <td>430</td>\n",
       "      <td>...</td>\n",
       "      <td>62.0</td>\n",
       "      <td>8.13</td>\n",
       "      <td>64.0</td>\n",
       "      <td>0.1</td>\n",
       "      <td>631.744976</td>\n",
       "      <td>31731688.0</td>\n",
       "      <td>17.7</td>\n",
       "      <td>17.7</td>\n",
       "      <td>0.470</td>\n",
       "      <td>9.9</td>\n",
       "    </tr>\n",
       "    <tr>\n",
       "      <th>3</th>\n",
       "      <td>Afghanistan</td>\n",
       "      <td>2012</td>\n",
       "      <td>Developing</td>\n",
       "      <td>59.5</td>\n",
       "      <td>272.0</td>\n",
       "      <td>69</td>\n",
       "      <td>0.01</td>\n",
       "      <td>78.184215</td>\n",
       "      <td>67.0</td>\n",
       "      <td>2787</td>\n",
       "      <td>...</td>\n",
       "      <td>67.0</td>\n",
       "      <td>8.52</td>\n",
       "      <td>67.0</td>\n",
       "      <td>0.1</td>\n",
       "      <td>669.959000</td>\n",
       "      <td>3696958.0</td>\n",
       "      <td>17.9</td>\n",
       "      <td>18.0</td>\n",
       "      <td>0.463</td>\n",
       "      <td>9.8</td>\n",
       "    </tr>\n",
       "    <tr>\n",
       "      <th>4</th>\n",
       "      <td>Afghanistan</td>\n",
       "      <td>2011</td>\n",
       "      <td>Developing</td>\n",
       "      <td>59.2</td>\n",
       "      <td>275.0</td>\n",
       "      <td>71</td>\n",
       "      <td>0.01</td>\n",
       "      <td>7.097109</td>\n",
       "      <td>68.0</td>\n",
       "      <td>3013</td>\n",
       "      <td>...</td>\n",
       "      <td>68.0</td>\n",
       "      <td>7.87</td>\n",
       "      <td>68.0</td>\n",
       "      <td>0.1</td>\n",
       "      <td>63.537231</td>\n",
       "      <td>2978599.0</td>\n",
       "      <td>18.2</td>\n",
       "      <td>18.2</td>\n",
       "      <td>0.454</td>\n",
       "      <td>9.5</td>\n",
       "    </tr>\n",
       "  </tbody>\n",
       "</table>\n",
       "<p>5 rows × 22 columns</p>\n",
       "</div>"
      ],
      "text/plain": [
       "       Country  Year      Status  Life expectancy   Adult Mortality  \\\n",
       "0  Afghanistan  2015  Developing              65.0            263.0   \n",
       "1  Afghanistan  2014  Developing              59.9            271.0   \n",
       "2  Afghanistan  2013  Developing              59.9            268.0   \n",
       "3  Afghanistan  2012  Developing              59.5            272.0   \n",
       "4  Afghanistan  2011  Developing              59.2            275.0   \n",
       "\n",
       "   infant deaths  Alcohol  percentage expenditure  Hepatitis B  Measles   ...  \\\n",
       "0             62     0.01               71.279624         65.0      1154  ...   \n",
       "1             64     0.01               73.523582         62.0       492  ...   \n",
       "2             66     0.01               73.219243         64.0       430  ...   \n",
       "3             69     0.01               78.184215         67.0      2787  ...   \n",
       "4             71     0.01                7.097109         68.0      3013  ...   \n",
       "\n",
       "   Polio  Total expenditure  Diphtheria    HIV/AIDS         GDP  Population  \\\n",
       "0    6.0               8.16         65.0        0.1  584.259210  33736494.0   \n",
       "1   58.0               8.18         62.0        0.1  612.696514    327582.0   \n",
       "2   62.0               8.13         64.0        0.1  631.744976  31731688.0   \n",
       "3   67.0               8.52         67.0        0.1  669.959000   3696958.0   \n",
       "4   68.0               7.87         68.0        0.1   63.537231   2978599.0   \n",
       "\n",
       "    thinness  1-19 years   thinness 5-9 years  \\\n",
       "0                   17.2                 17.3   \n",
       "1                   17.5                 17.5   \n",
       "2                   17.7                 17.7   \n",
       "3                   17.9                 18.0   \n",
       "4                   18.2                 18.2   \n",
       "\n",
       "   Income composition of resources  Schooling  \n",
       "0                            0.479       10.1  \n",
       "1                            0.476       10.0  \n",
       "2                            0.470        9.9  \n",
       "3                            0.463        9.8  \n",
       "4                            0.454        9.5  \n",
       "\n",
       "[5 rows x 22 columns]"
      ]
     },
     "execution_count": 44,
     "metadata": {},
     "output_type": "execute_result"
    }
   ],
   "source": [
    "import pandas as pd\n",
    "import matplotlib.pyplot as plt\n",
    "\n",
    "df = pd.read_csv('Life Expectancy Data.csv')\n",
    "df.head()"
   ]
  },
  {
   "cell_type": "code",
   "execution_count": 45,
   "metadata": {},
   "outputs": [
    {
     "data": {
      "text/plain": [
       "Index(['Country', 'Year', 'Status', 'Life Expectancy', 'Adult Mortality',\n",
       "       'Infant Deaths', 'Alcohol Intake(L)', 'Percentage Expenditure',\n",
       "       'HepB Vaccination %', 'Measles', 'BMI', 'Under-Five Deaths',\n",
       "       'Polio Vaccination %', 'Total Expenditure', 'Diphtheria Vaccination %',\n",
       "       'HIV/AIDS', 'GDP', 'Population', 'Thinness 1-19 Years',\n",
       "       'Thinness 5-9 Years', 'Resources Income Composition', 'Schooling'],\n",
       "      dtype='object')"
      ]
     },
     "execution_count": 45,
     "metadata": {},
     "output_type": "execute_result"
    }
   ],
   "source": [
    "df.rename(columns={'Life expectancy ': 'Life Expectancy',\n",
    "                    'infant deaths': 'Infant Deaths',\n",
    "                    'Alcohol': 'Alcohol Intake(L)',\n",
    "                    'percentage expenditure': 'Percentage Expenditure',\n",
    "                    'Hepatitis B': 'HepB Vaccination %', \n",
    "                    'Measles ': 'Measles',\n",
    "                    ' BMI ': 'BMI',\n",
    "                    'under-five deaths ': 'Under-Five Deaths',\n",
    "                    'Polio': 'Polio Vaccination %',\n",
    "                    'Total expenditure': 'Total Expenditure',\n",
    "                    'Diphtheria ': 'Diphtheria Vaccination %',\n",
    "                    ' HIV/AIDS': 'HIV/AIDS',\n",
    "                    ' thinness  1-19 years': 'Thinness 1-19 Years',\n",
    "                    ' thinness 5-9 years': 'Thinness 5-9 Years',\n",
    "                    'Income composition of resources': 'Resources Income Composition'\n",
    "                    }, inplace=True)\n",
    "df.columns"
   ]
  },
  {
   "cell_type": "code",
   "execution_count": 46,
   "metadata": {},
   "outputs": [
    {
     "name": "stdout",
     "output_type": "stream",
     "text": [
      "<class 'pandas.core.frame.DataFrame'>\n",
      "RangeIndex: 2938 entries, 0 to 2937\n",
      "Data columns (total 22 columns):\n",
      " #   Column                        Non-Null Count  Dtype  \n",
      "---  ------                        --------------  -----  \n",
      " 0   Country                       2938 non-null   object \n",
      " 1   Year                          2938 non-null   int64  \n",
      " 2   Status                        2938 non-null   object \n",
      " 3   Life Expectancy               2928 non-null   float64\n",
      " 4   Adult Mortality               2928 non-null   float64\n",
      " 5   Infant Deaths                 2938 non-null   int64  \n",
      " 6   Alcohol Intake(L)             2744 non-null   float64\n",
      " 7   Percentage Expenditure        2938 non-null   float64\n",
      " 8   HepB Vaccination %            2385 non-null   float64\n",
      " 9   Measles                       2938 non-null   int64  \n",
      " 10  BMI                           2904 non-null   float64\n",
      " 11  Under-Five Deaths             2938 non-null   int64  \n",
      " 12  Polio Vaccination %           2919 non-null   float64\n",
      " 13  Total Expenditure             2712 non-null   float64\n",
      " 14  Diphtheria Vaccination %      2919 non-null   float64\n",
      " 15  HIV/AIDS                      2938 non-null   float64\n",
      " 16  GDP                           2490 non-null   float64\n",
      " 17  Population                    2286 non-null   float64\n",
      " 18  Thinness 1-19 Years           2904 non-null   float64\n",
      " 19  Thinness 5-9 Years            2904 non-null   float64\n",
      " 20  Resources Income Composition  2771 non-null   float64\n",
      " 21  Schooling                     2775 non-null   float64\n",
      "dtypes: float64(16), int64(4), object(2)\n",
      "memory usage: 505.1+ KB\n"
     ]
    }
   ],
   "source": [
    "df.info()"
   ]
  },
  {
   "cell_type": "markdown",
   "metadata": {},
   "source": [
    "Q1. Finding top 10 Countries with maximum number of Life Expectancy."
   ]
  },
  {
   "cell_type": "code",
   "execution_count": 47,
   "metadata": {},
   "outputs": [
    {
     "data": {
      "text/html": [
       "<div>\n",
       "<style scoped>\n",
       "    .dataframe tbody tr th:only-of-type {\n",
       "        vertical-align: middle;\n",
       "    }\n",
       "\n",
       "    .dataframe tbody tr th {\n",
       "        vertical-align: top;\n",
       "    }\n",
       "\n",
       "    .dataframe thead th {\n",
       "        text-align: right;\n",
       "    }\n",
       "</style>\n",
       "<table border=\"1\" class=\"dataframe\">\n",
       "  <thead>\n",
       "    <tr style=\"text-align: right;\">\n",
       "      <th></th>\n",
       "      <th>Country</th>\n",
       "      <th>Life Expectancy</th>\n",
       "    </tr>\n",
       "  </thead>\n",
       "  <tbody>\n",
       "    <tr>\n",
       "      <th>0</th>\n",
       "      <td>Afghanistan</td>\n",
       "      <td>65.0</td>\n",
       "    </tr>\n",
       "    <tr>\n",
       "      <th>1</th>\n",
       "      <td>Afghanistan</td>\n",
       "      <td>59.9</td>\n",
       "    </tr>\n",
       "    <tr>\n",
       "      <th>2</th>\n",
       "      <td>Afghanistan</td>\n",
       "      <td>59.9</td>\n",
       "    </tr>\n",
       "    <tr>\n",
       "      <th>3</th>\n",
       "      <td>Afghanistan</td>\n",
       "      <td>59.5</td>\n",
       "    </tr>\n",
       "    <tr>\n",
       "      <th>4</th>\n",
       "      <td>Afghanistan</td>\n",
       "      <td>59.2</td>\n",
       "    </tr>\n",
       "  </tbody>\n",
       "</table>\n",
       "</div>"
      ],
      "text/plain": [
       "       Country  Life Expectancy\n",
       "0  Afghanistan             65.0\n",
       "1  Afghanistan             59.9\n",
       "2  Afghanistan             59.9\n",
       "3  Afghanistan             59.5\n",
       "4  Afghanistan             59.2"
      ]
     },
     "execution_count": 47,
     "metadata": {},
     "output_type": "execute_result"
    }
   ],
   "source": [
    "Highest_LE = df[['Country', 'Life Expectancy']]\n",
    "Highest_LE.head()"
   ]
  },
  {
   "cell_type": "code",
   "execution_count": 48,
   "metadata": {},
   "outputs": [
    {
     "name": "stdout",
     "output_type": "stream",
     "text": [
      "Top 10 Countries with Highest Life Expectancy are: \n",
      "          Country  Life Expectancy\n",
      "2345     Slovenia             88.0\n",
      "737       Denmark             86.0\n",
      "673        Cyprus             85.0\n",
      "544         Chile             85.0\n",
      "1314        Japan             83.7\n",
      "2521  Switzerland             83.4\n",
      "2313    Singapore             83.1\n",
      "2425        Spain             82.8\n",
      "112     Australia             82.8\n",
      "1282        Italy             82.7\n"
     ]
    },
    {
     "name": "stderr",
     "output_type": "stream",
     "text": [
      "C:\\Softwares\\Python\\lib\\site-packages\\pandas\\util\\_decorators.py:311: SettingWithCopyWarning: \n",
      "A value is trying to be set on a copy of a slice from a DataFrame\n",
      "\n",
      "See the caveats in the documentation: https://pandas.pydata.org/pandas-docs/stable/user_guide/indexing.html#returning-a-view-versus-a-copy\n",
      "  return func(*args, **kwargs)\n"
     ]
    }
   ],
   "source": [
    "Highest_LE.drop_duplicates(subset = ['Country'], keep = 'first', inplace = True)\n",
    "Highest_LE.sort_values(ascending = False, by = \"Life Expectancy\", inplace = True)\n",
    "print(\"Top 10 Countries with Highest Life Expectancy are: \")\n",
    "print (Highest_LE.head(10))\n"
   ]
  },
  {
   "cell_type": "markdown",
   "metadata": {},
   "source": [
    "Q2 Find the Correlation between GDP and Life Expectancy."
   ]
  },
  {
   "cell_type": "code",
   "execution_count": 49,
   "metadata": {},
   "outputs": [
    {
     "name": "stdout",
     "output_type": "stream",
     "text": [
      "Correlation between GDP and Life Expectancy is:  0.46\n"
     ]
    },
    {
     "name": "stderr",
     "output_type": "stream",
     "text": [
      "C:\\Softwares\\Python\\lib\\site-packages\\pandas\\util\\_decorators.py:311: SettingWithCopyWarning: \n",
      "A value is trying to be set on a copy of a slice from a DataFrame\n",
      "\n",
      "See the caveats in the documentation: https://pandas.pydata.org/pandas-docs/stable/user_guide/indexing.html#returning-a-view-versus-a-copy\n",
      "  return func(*args, **kwargs)\n"
     ]
    }
   ],
   "source": [
    "Correlation_GDP_LE = df[['Country', 'Life Expectancy', 'GDP']]\n",
    "Correlation_GDP_LE.dropna(inplace = True)\n",
    "Correlation_GDP_LE.drop_duplicates(subset = ['Country'], keep = 'first', inplace = True)\n",
    "\n",
    "col1, col2 = \"Life Expectancy\", \"GDP\"\n",
    "Correlation = Correlation_GDP_LE[col1].corr(Correlation_GDP_LE[col2])\n",
    "\n",
    "print(\"Correlation between GDP and Life Expectancy is: \", round(Correlation, 2))\n"
   ]
  },
  {
   "cell_type": "markdown",
   "metadata": {},
   "source": [
    "Q3. Which Disease affect Life Expectancy the most."
   ]
  },
  {
   "cell_type": "code",
   "execution_count": 50,
   "metadata": {},
   "outputs": [
    {
     "name": "stdout",
     "output_type": "stream",
     "text": [
      "Disease which affect Life Expectancy the most is:  HIV/AIDS\n"
     ]
    }
   ],
   "source": [
    "Disease = df[['Country', 'Year', 'Life Expectancy', 'Measles', 'HIV/AIDS']]\n",
    "Disease.drop_duplicates(subset = ['Country'], keep = 'first', inplace = True)\n",
    "\n",
    "col1, col2 = \"Life Expectancy\", \"Measles\"\n",
    "Correlation1 = Disease[col1].corr(Disease[col2])\n",
    "\n",
    "col1, col2 = \"Life Expectancy\", \"HIV/AIDS\"\n",
    "Correlation2 = Disease[col1].corr(Disease[col2])\n",
    "\n",
    "Disease_EL = 'Measles' if Correlation1<Correlation2 else 'HIV/AIDS'\n",
    "\n",
    "print('Disease which affect Life Expectancy the most is: ', Disease_EL)"
   ]
  },
  {
   "cell_type": "markdown",
   "metadata": {},
   "source": [
    "Q4 Which Country's Life Expectancy increased the most in 15 years."
   ]
  },
  {
   "cell_type": "code",
   "execution_count": 51,
   "metadata": {},
   "outputs": [
    {
     "name": "stdout",
     "output_type": "stream",
     "text": [
      "Life Expectancy increased the most in 15 years of the following Country: \n",
      "       Country  Life Expectancy Increase\n",
      "0  Afghanistan                      10.2\n"
     ]
    },
    {
     "name": "stderr",
     "output_type": "stream",
     "text": [
      "C:\\Softwares\\Python\\lib\\site-packages\\pandas\\core\\frame.py:4906: SettingWithCopyWarning: \n",
      "A value is trying to be set on a copy of a slice from a DataFrame\n",
      "\n",
      "See the caveats in the documentation: https://pandas.pydata.org/pandas-docs/stable/user_guide/indexing.html#returning-a-view-versus-a-copy\n",
      "  return super().drop(\n",
      "C:\\Users\\Divyam\\AppData\\Local\\Temp/ipykernel_16636/2251062176.py:15: SettingWithCopyWarning: \n",
      "A value is trying to be set on a copy of a slice from a DataFrame.\n",
      "Try using .loc[row_indexer,col_indexer] = value instead\n",
      "\n",
      "See the caveats in the documentation: https://pandas.pydata.org/pandas-docs/stable/user_guide/indexing.html#returning-a-view-versus-a-copy\n",
      "  Cntry['Life Expectancy Increase'] = Country_2015 - Country_2000\n"
     ]
    }
   ],
   "source": [
    "Cntry = df[['Country', 'Year', 'Life Expectancy']]\n",
    "\n",
    "Country_2000 = Cntry[Cntry['Year'] == 2000]\n",
    "Country_2015 = Cntry[Cntry['Year'] == 2015]\n",
    "\n",
    "Country_2000.drop(['Country', 'Year'], axis = 1, inplace = True)\n",
    "Country_2015.drop(['Country', 'Year'], axis = 1, inplace = True)\n",
    "\n",
    "Cntry.drop_duplicates(subset = ['Country'], keep = 'first', inplace = True)\n",
    "Cntry.drop(['Year', 'Life Expectancy'], axis = 1, inplace = True)\n",
    "\n",
    "Country_2000.reset_index(drop = True, inplace = True)\n",
    "Country_2015.reset_index(drop = True, inplace = True)\n",
    "\n",
    "Cntry['Life Expectancy Increase'] = Country_2015 - Country_2000\n",
    "Cntry.sort_values(ascending = False, by = \"Life Expectancy Increase\", inplace = True)\n",
    "print('Life Expectancy increased the most in 15 years of the following Country: ')\n",
    "print(Cntry.head(1))\n"
   ]
  },
  {
   "cell_type": "markdown",
   "metadata": {},
   "source": [
    "Q5. Top Five Country with Highest Adult Mortality."
   ]
  },
  {
   "cell_type": "code",
   "execution_count": 52,
   "metadata": {},
   "outputs": [
    {
     "name": "stdout",
     "output_type": "stream",
     "text": [
      "Country with the Highest Adult Mortality is: \n",
      "                       Country  Adult Mortality\n",
      "1474                   Lesotho            484.0\n",
      "2297              Sierra Leone            413.0\n",
      "432              Côte d'Ivoire            397.0\n",
      "512   Central African Republic            397.0\n",
      "2489                 Swaziland            373.0\n"
     ]
    },
    {
     "name": "stderr",
     "output_type": "stream",
     "text": [
      "C:\\Softwares\\Python\\lib\\site-packages\\pandas\\util\\_decorators.py:311: SettingWithCopyWarning: \n",
      "A value is trying to be set on a copy of a slice from a DataFrame\n",
      "\n",
      "See the caveats in the documentation: https://pandas.pydata.org/pandas-docs/stable/user_guide/indexing.html#returning-a-view-versus-a-copy\n",
      "  return func(*args, **kwargs)\n"
     ]
    }
   ],
   "source": [
    "Adult_Mortality = df[['Country', 'Adult Mortality']]\n",
    "Adult_Mortality.drop_duplicates(subset = ['Country'], keep = 'first', inplace = True)\n",
    "\n",
    "Adult_Mortality.sort_values(ascending = False, by = 'Adult Mortality', inplace = True)\n",
    "print('Country with the Highest Adult Mortality is: ')\n",
    "print(Adult_Mortality.head(5))"
   ]
  },
  {
   "cell_type": "markdown",
   "metadata": {},
   "source": [
    "Q6. Draw a Graph b/w Income Composition and Population."
   ]
  },
  {
   "cell_type": "code",
   "execution_count": 53,
   "metadata": {},
   "outputs": [
    {
     "data": {
      "image/png": "[encoded data removed]",
      "text/plain": [
       "<Figure size 432x288 with 1 Axes>"
      ]
     },
     "metadata": {
      "needs_background": "light"
     },
     "output_type": "display_data"
    }
   ],
   "source": [
    "x = df['Resources Income Composition']\n",
    "y = df['Population']\n",
    "\n",
    "plt.bar(x, y, width = 0.5)\n",
    "\n",
    "plt.xlabel(\"Resources Income Composition\")\n",
    "plt.xticks(rotation = -45)\n",
    "plt.ylabel(\"Population\")\n",
    "plt.title(\"Graph between Resources Income Composition and Population\")\n",
    "plt.show()"
   ]
  },
  {
   "cell_type": "markdown",
   "metadata": {},
   "source": [
    "Q7. In which Year the Total Expenditure is Highest in India."
   ]
  },
  {
   "cell_type": "code",
   "execution_count": 54,
   "metadata": {},
   "outputs": [
    {
     "name": "stdout",
     "output_type": "stream",
     "text": [
      "The Total Expenditure is Highest in the following Year in India: \n",
      "      Year  Total Expenditure\n",
      "1187  2014               4.69\n"
     ]
    },
    {
     "name": "stderr",
     "output_type": "stream",
     "text": [
      "C:\\Softwares\\Python\\lib\\site-packages\\pandas\\core\\frame.py:4906: SettingWithCopyWarning: \n",
      "A value is trying to be set on a copy of a slice from a DataFrame\n",
      "\n",
      "See the caveats in the documentation: https://pandas.pydata.org/pandas-docs/stable/user_guide/indexing.html#returning-a-view-versus-a-copy\n",
      "  return super().drop(\n"
     ]
    }
   ],
   "source": [
    "Highest_Expenditure = df[['Country', 'Year', 'Total Expenditure']]\n",
    "Highest_Expenditure_India = Highest_Expenditure[Highest_Expenditure['Country'] == 'India']\n",
    "Highest_Expenditure_India.drop('Country', axis = 1, inplace = True)\n",
    "Highest_Expenditure_India['Total Expenditure'].max()\n",
    "\n",
    "print('The Total Expenditure is Highest in the following Year in India: ')\n",
    "print(Highest_Expenditure_India.loc[Highest_Expenditure_India['Total Expenditure'] == Highest_Expenditure_India['Total Expenditure'].max()])"
   ]
  },
  {
   "cell_type": "markdown",
   "metadata": {},
   "source": [
    "Q8. What are the predicting variables that actually affecting the Life Expectancy?"
   ]
  },
  {
   "cell_type": "code",
   "execution_count": 55,
   "metadata": {},
   "outputs": [
    {
     "name": "stdout",
     "output_type": "stream",
     "text": [
      "The following Variable actually affect the Life Expectancy the most is:  Life Expectancy    Schooling\n",
      "dtype: object\n"
     ]
    }
   ],
   "source": [
    "Corr = df.corr()\n",
    "Corr.drop(Corr.columns.difference(['Life Expectancy']), inplace = True)\n",
    "Corr.drop(['Life Expectancy'], axis = 1, inplace = True)\n",
    "print('The following Variable actually affect the Life Expectancy the most is: ', Corr.idxmax(axis=1))"
   ]
  },
  {
   "cell_type": "markdown",
   "metadata": {},
   "source": [
    "Q9. Should a country having a lower life expectancy value (<65) increase its healthcare expenditure in order to improve its average lifespan?"
   ]
  },
  {
   "cell_type": "code",
   "execution_count": 56,
   "metadata": {},
   "outputs": [
    {
     "name": "stdout",
     "output_type": "stream",
     "text": [
      "Yes, Country can Increase its Healthcare Expenditure, as it Positively affect the Life Expectancy.\n"
     ]
    }
   ],
   "source": [
    "Corr1 = df.corr()\n",
    "Corr1.drop(Corr1.columns.difference(['Life Expectancy']), inplace = True)\n",
    "Corr1.drop(Corr1.columns.difference(['Total Expenditure']), axis = 1, inplace = True)\n",
    "\n",
    "if Corr1['Total Expenditure'].item() < 0:\n",
    "    print('No, Country should not Increase its Healthcare Expenditure, as it Negatively affect the Life Expectancy.')\n",
    "else:\n",
    "    print('Yes, Country can Increase its Healthcare Expenditure, as it Positively affect the Life Expectancy.')\n"
   ]
  },
  {
   "cell_type": "markdown",
   "metadata": {},
   "source": [
    "Q10. How does Infant and Adult mortality rates affect Life Expectancy?"
   ]
  },
  {
   "cell_type": "code",
   "execution_count": 57,
   "metadata": {},
   "outputs": [
    {
     "name": "stdout",
     "output_type": "stream",
     "text": [
      "                 Adult Mortality  Infant Deaths\n",
      "Life Expectancy        -0.696359      -0.196557\n",
      "Adult Mortality Negatively Affects the Life Expectancy.\n",
      "Infant Deaths Negatively Affects the Life Expectancy.\n"
     ]
    }
   ],
   "source": [
    "Corr2 = df.corr()\n",
    "Corr2.drop(Corr2.columns.difference(['Life Expectancy']), inplace = True)\n",
    "Corr2.drop(Corr2.columns.difference(['Adult Mortality', 'Infant Deaths']), axis = 1, inplace = True)\n",
    "print(Corr2)\n",
    "\n",
    "if Corr2['Adult Mortality'].item() < 0:\n",
    "    print('Adult Mortality Negatively Affects the Life Expectancy.')\n",
    "else:\n",
    "    print('Adult Mortality Positively Affects the Life Expectancy.')\n",
    "    \n",
    "if Corr2['Infant Deaths'].item() < 0:\n",
    "    print('Infant Deaths Negatively Affects the Life Expectancy.')\n",
    "else:\n",
    "    print('Infant Deaths Positively Affects the Life Expectancy.')"
   ]
  },
  {
   "cell_type": "markdown",
   "metadata": {},
   "source": [
    "Q11. Does Life Expectancy have positive or negative correlation with Status of the Country, drinking alcohol, BMI, GDP etc.\n"
   ]
  },
  {
   "cell_type": "code",
   "execution_count": 58,
   "metadata": {},
   "outputs": [
    {
     "name": "stdout",
     "output_type": "stream",
     "text": [
      "                 Alcohol Intake(L)       BMI       GDP\n",
      "Life Expectancy           0.404877  0.567694  0.461455\n",
      "Alcohol Intake Positively Affects the Life Expectancy.\n",
      "Body Mass Index Positively Affects the Life Expectancy.\n",
      "Gross Domestic Product Positively Affects the Life Expectancy.\n"
     ]
    }
   ],
   "source": [
    "Corr3 = df.corr()\n",
    "\n",
    "Corr3.drop(Corr3.columns.difference(['Life Expectancy']), inplace = True)\n",
    "Corr3.drop(Corr3.columns.difference(['Alcohol Intake(L)', 'BMI', 'GDP']), axis = 1, inplace = True)\n",
    "print(Corr3)\n",
    "\n",
    "if Corr3['Alcohol Intake(L)'].item() < 0:\n",
    "    print('Alcohol Intake Negatively Affects the Life Expectancy.')\n",
    "else:\n",
    "    print('Alcohol Intake Positively Affects the Life Expectancy.')\n",
    "\n",
    "if Corr3['BMI'].item() < 0:\n",
    "    print('Body Mass Index Negatively Affects the Life Expectancy.')\n",
    "else:\n",
    "    print('Body Mass Index Positively Affects the Life Expectancy.')\n",
    "\n",
    "if Corr3['GDP'].item() < 0:\n",
    "    print('Gross Domestic Product Negatively Affects the Life Expectancy.')\n",
    "else:\n",
    "    print('Gross Domestic Product Positively Affects the Life Expectancy.')\n"
   ]
  },
  {
   "cell_type": "markdown",
   "metadata": {},
   "source": [
    "Q12. What is the impact of schooling on the lifespan of humans?"
   ]
  },
  {
   "cell_type": "code",
   "execution_count": 59,
   "metadata": {},
   "outputs": [
    {
     "name": "stdout",
     "output_type": "stream",
     "text": [
      "                 Schooling\n",
      "Life Expectancy   0.751975\n",
      "Schooling Positively Affects the Life Expectancy.\n"
     ]
    }
   ],
   "source": [
    "Corr4 = df.corr()\n",
    "Corr4.drop(Corr4.columns.difference(['Life Expectancy']), inplace = True)\n",
    "Corr4.drop(Corr4.columns.difference(['Schooling']), axis = 1, inplace = True)\n",
    "print(Corr4)\n",
    "\n",
    "if Corr4['Schooling'].item() < 0:\n",
    "    print('Schooling Negatively Affects the Life Expectancy.')\n",
    "else:\n",
    "    print('Schooling Positively Affects the Life Expectancy.')"
   ]
  },
  {
   "cell_type": "markdown",
   "metadata": {},
   "source": [
    "Q13. Do densely populated countries tend to have lower life expectancy?"
   ]
  },
  {
   "cell_type": "code",
   "execution_count": 60,
   "metadata": {},
   "outputs": [
    {
     "name": "stderr",
     "output_type": "stream",
     "text": [
      "C:\\Softwares\\Python\\lib\\site-packages\\pandas\\util\\_decorators.py:311: SettingWithCopyWarning: \n",
      "A value is trying to be set on a copy of a slice from a DataFrame\n",
      "\n",
      "See the caveats in the documentation: https://pandas.pydata.org/pandas-docs/stable/user_guide/indexing.html#returning-a-view-versus-a-copy\n",
      "  return func(*args, **kwargs)\n"
     ]
    },
    {
     "data": {
      "text/plain": [
       "Text(0.5, 1.0, 'Life Expectancy vs Population')"
      ]
     },
     "execution_count": 60,
     "metadata": {},
     "output_type": "execute_result"
    },
    {
     "data": {
      "image/png": "[encoded data removed]",
      "text/plain": [
       "<Figure size 432x288 with 1 Axes>"
      ]
     },
     "metadata": {
      "needs_background": "light"
     },
     "output_type": "display_data"
    }
   ],
   "source": [
    "df_Country = df[['Country', 'Life Expectancy', 'Population']]\n",
    "df_Country.dropna(inplace = True)\n",
    "df_Country.drop_duplicates(subset = 'Country', keep = 'first', inplace = True)\n",
    "\n",
    "x = df_Country['Life Expectancy']\n",
    "y = df_Country['Population']\n",
    "\n",
    "plt.bar(x, y)\n",
    "plt.xlabel('Life Expectancy')\n",
    "plt.ylabel('Population')\n",
    "plt.title('Life Expectancy vs Population')"
   ]
  },
  {
   "cell_type": "code",
   "execution_count": 61,
   "metadata": {},
   "outputs": [
    {
     "name": "stdout",
     "output_type": "stream",
     "text": [
      "As we see in the Graph of Life Expectancy vs Polution that, it is not always the case that low Population Country has high Life Expectancy.\n"
     ]
    }
   ],
   "source": [
    "print('As we see in the Graph of Life Expectancy vs Polution that, it is not always the case that low Population Country has high Life Expectancy.')"
   ]
  },
  {
   "cell_type": "markdown",
   "metadata": {},
   "source": [
    "Q14.  Draw a Line Graph of Year wise GDP of India."
   ]
  },
  {
   "cell_type": "code",
   "execution_count": 62,
   "metadata": {},
   "outputs": [
    {
     "data": {
      "text/plain": [
       "Text(0.5, 1.0, 'GDP per capita (in USD) of India')"
      ]
     },
     "execution_count": 62,
     "metadata": {},
     "output_type": "execute_result"
    },
    {
     "data": {
      "image/png": "[encoded data removed]",
      "text/plain": [
       "<Figure size 432x288 with 1 Axes>"
      ]
     },
     "metadata": {
      "needs_background": "light"
     },
     "output_type": "display_data"
    }
   ],
   "source": [
    "df_Country = df[['Year', 'Country', 'GDP']]\n",
    "Country_India = df_Country[df_Country['Country'] == 'India']\n",
    "\n",
    "x = Country_India['Year']\n",
    "y = Country_India['GDP']\n",
    "\n",
    "plt.plot(x, y)\n",
    "plt.xlabel('Year')\n",
    "plt.ylabel('GDP per capita (in USD)')\n",
    "plt.title('GDP per capita (in USD) of India')"
   ]
  },
  {
   "cell_type": "markdown",
   "metadata": {},
   "source": [
    "Q15. Which Country infant die more often."
   ]
  },
  {
   "cell_type": "code",
   "execution_count": 63,
   "metadata": {},
   "outputs": [
    {
     "name": "stdout",
     "output_type": "stream",
     "text": [
      "Country whose Infants Die more often is: India with 21867 Deaths in 15 Years.\n"
     ]
    }
   ],
   "source": [
    "Infant_Death = df[['Country', 'Year', 'Infant Deaths']]\n",
    "Country = df['Country'].unique()\n",
    "Death = []\n",
    "for i in Country:\n",
    "    x = Infant_Death.loc[Infant_Death['Country'] == i, 'Infant Deaths'].sum()\n",
    "    Death.append(x)\n",
    "\n",
    "print('Country whose Infants Die more often is:', Country[Death.index(max(Death))], 'with', max(Death), 'Deaths in 15 Years.')\n",
    "\n"
   ]
  },
  {
   "cell_type": "markdown",
   "metadata": {},
   "source": [
    "Q16.  In which Year the Under Five Death is Highest."
   ]
  },
  {
   "cell_type": "code",
   "execution_count": 64,
   "metadata": {},
   "outputs": [
    {
     "name": "stdout",
     "output_type": "stream",
     "text": [
      "Year in which the Infants Die most is: 2000\n"
     ]
    }
   ],
   "source": [
    "Infant_Death = df[['Country', 'Year', 'Infant Deaths']]\n",
    "Year = df['Year'].unique()\n",
    "Y = []\n",
    "for i in Year:\n",
    "    x = Infant_Death.loc[Infant_Death['Year'] == i, 'Infant Deaths'].sum()\n",
    "    Y.append(x)\n",
    "\n",
    "print('Year in which the Infants Die most is:', Year[Y.index(max(Y))])"
   ]
  },
  {
   "cell_type": "markdown",
   "metadata": {},
   "source": [
    "Q17. Draw a Graph between Year and Schooling."
   ]
  },
  {
   "cell_type": "code",
   "execution_count": 65,
   "metadata": {},
   "outputs": [
    {
     "data": {
      "image/png": "[encoded data removed]",
      "text/plain": [
       "<Figure size 432x288 with 1 Axes>"
      ]
     },
     "metadata": {
      "needs_background": "light"
     },
     "output_type": "display_data"
    }
   ],
   "source": [
    "x = df['Year']\n",
    "y = df['Schooling']\n",
    "\n",
    "plt.bar(x, y)\n",
    "\n",
    "plt.xlabel(\"Year\")\n",
    "plt.ylabel(\"Schooling\")\n",
    "plt.title(\"Graph between Year and Schooling\")\n",
    "plt.show()"
   ]
  },
  {
   "cell_type": "markdown",
   "metadata": {},
   "source": [
    "Q18. Country which consumed most alcohol."
   ]
  },
  {
   "cell_type": "code",
   "execution_count": 66,
   "metadata": {},
   "outputs": [
    {
     "name": "stdout",
     "output_type": "stream",
     "text": [
      "Top 10 Countries with Most Alcohol Consumption are: \n",
      "                                                Country  Alcohol Intake(L)\n",
      "2762  United Kingdom of Great Britain and Northern I...              10.66\n",
      "1845                                        New Zealand               8.70\n",
      "2167                              Saint Kitts and Nevis               8.54\n",
      "1910                                             Norway               5.97\n",
      "16                                              Albania               4.60\n",
      "2313                                          Singapore               1.79\n",
      "0                                           Afghanistan               0.01\n",
      "624                                        Cook Islands               0.01\n",
      "769                                            Dominica               0.01\n",
      "1650                                   Marshall Islands               0.01\n"
     ]
    },
    {
     "name": "stderr",
     "output_type": "stream",
     "text": [
      "C:\\Softwares\\Python\\lib\\site-packages\\pandas\\util\\_decorators.py:311: SettingWithCopyWarning: \n",
      "A value is trying to be set on a copy of a slice from a DataFrame\n",
      "\n",
      "See the caveats in the documentation: https://pandas.pydata.org/pandas-docs/stable/user_guide/indexing.html#returning-a-view-versus-a-copy\n",
      "  return func(*args, **kwargs)\n"
     ]
    }
   ],
   "source": [
    "most_alcohol = df[['Country', 'Alcohol Intake(L)']]\n",
    "most_alcohol.head()\n",
    "\n",
    "most_alcohol.drop_duplicates(subset = ['Country'], keep = 'first', inplace = True)\n",
    "most_alcohol.sort_values(ascending = False, by = \"Alcohol Intake(L)\", inplace = True)\n",
    "print(\"Top 10 Countries with Most Alcohol Consumption are: \")\n",
    "print (most_alcohol.head(10))\n"
   ]
  },
  {
   "cell_type": "markdown",
   "metadata": {},
   "source": [
    "Q19. Countries whose government shows awareness about their health condition (more expenditure on health issues)."
   ]
  },
  {
   "cell_type": "code",
   "execution_count": 67,
   "metadata": {},
   "outputs": [
    {
     "name": "stdout",
     "output_type": "stream",
     "text": [
      "Top 10 Countries with Highest Total Expenditure are: \n",
      "                    Country  Total Expenditure\n",
      "1650       Marshall Islands              17.24\n",
      "2713                 Tuvalu              16.61\n",
      "1958                  Palau               9.27\n",
      "0               Afghanistan               8.16\n",
      "1909                   Niue               7.20\n",
      "2216             San Marino               6.50\n",
      "2167  Saint Kitts and Nevis               6.14\n",
      "16                  Albania               6.00\n",
      "769                Dominica               5.58\n",
      "1812                  Nauru               4.65\n"
     ]
    },
    {
     "name": "stderr",
     "output_type": "stream",
     "text": [
      "C:\\Softwares\\Python\\lib\\site-packages\\pandas\\util\\_decorators.py:311: SettingWithCopyWarning: \n",
      "A value is trying to be set on a copy of a slice from a DataFrame\n",
      "\n",
      "See the caveats in the documentation: https://pandas.pydata.org/pandas-docs/stable/user_guide/indexing.html#returning-a-view-versus-a-copy\n",
      "  return func(*args, **kwargs)\n"
     ]
    }
   ],
   "source": [
    "high_exp = df[['Country', 'Total Expenditure']]\n",
    "high_exp.head()\n",
    "\n",
    "high_exp.drop_duplicates(subset = ['Country'], keep = 'first', inplace = True)\n",
    "high_exp.sort_values(ascending = False, by = \"Total Expenditure\", inplace = True)\n",
    "print(\"Top 10 Countries with Highest Total Expenditure are: \")\n",
    "print (high_exp.head(10))\n"
   ]
  },
  {
   "cell_type": "markdown",
   "metadata": {},
   "source": [
    "Q20. In which year India shows healthiest Body Mass Index (BMI)."
   ]
  },
  {
   "cell_type": "code",
   "execution_count": 68,
   "metadata": {},
   "outputs": [
    {
     "name": "stdout",
     "output_type": "stream",
     "text": [
      "The  Highest BMI is in the following Year in India: \n",
      "      Year   BMI\n",
      "1186  2015  18.7\n"
     ]
    },
    {
     "name": "stderr",
     "output_type": "stream",
     "text": [
      "C:\\Softwares\\Python\\lib\\site-packages\\pandas\\core\\frame.py:4906: SettingWithCopyWarning: \n",
      "A value is trying to be set on a copy of a slice from a DataFrame\n",
      "\n",
      "See the caveats in the documentation: https://pandas.pydata.org/pandas-docs/stable/user_guide/indexing.html#returning-a-view-versus-a-copy\n",
      "  return super().drop(\n"
     ]
    }
   ],
   "source": [
    "Highest_BMI = df[['Country','Year','BMI']]\n",
    "Highest_BMI_India = Highest_BMI[Highest_BMI['Country'] == 'India']\n",
    "Highest_BMI_India.drop('Country', axis = 1, inplace = True)\n",
    "Highest_BMI_India['BMI'].max()\n",
    "\n",
    "print('The  Highest BMI is in the following Year in India: ')\n",
    "print(Highest_BMI_India.loc[Highest_BMI_India['BMI'] == Highest_BMI_India['BMI'].max()])\n"
   ]
  },
  {
   "cell_type": "markdown",
   "metadata": {},
   "source": [
    "Q21. Top 5 countries whose infant mortality rate is lowest."
   ]
  },
  {
   "cell_type": "code",
   "execution_count": 69,
   "metadata": {},
   "outputs": [
    {
     "name": "stdout",
     "output_type": "stream",
     "text": [
      "Top 10 Countries with Lowest Adult Mortality are: \n",
      "                                        Country  Adult Mortality\n",
      "2665                                    Tunisia              1.0\n",
      "2585  The former Yugoslav republic of Macedonia             12.0\n",
      "2794                   United States of America             13.0\n",
      "2842                                    Vanuatu             13.0\n",
      "64                          Antigua and Barbuda             13.0\n",
      "2681                                     Turkey             16.0\n",
      "1732                                 Montenegro             16.0\n",
      "2649                        Trinidad and Tobago             17.0\n",
      "32                                      Algeria             19.0\n",
      "2329                                   Slovakia             19.0\n"
     ]
    },
    {
     "name": "stderr",
     "output_type": "stream",
     "text": [
      "C:\\Softwares\\Python\\lib\\site-packages\\pandas\\util\\_decorators.py:311: SettingWithCopyWarning: \n",
      "A value is trying to be set on a copy of a slice from a DataFrame\n",
      "\n",
      "See the caveats in the documentation: https://pandas.pydata.org/pandas-docs/stable/user_guide/indexing.html#returning-a-view-versus-a-copy\n",
      "  return func(*args, **kwargs)\n"
     ]
    }
   ],
   "source": [
    "low_mort = df[['Country', 'Adult Mortality']]\n",
    "low_mort.head()\n",
    "\n",
    "low_mort.drop_duplicates(subset = ['Country'], keep = 'first', inplace = True)\n",
    "low_mort.sort_values(ascending = True, by = \"Adult Mortality\", inplace = True)\n",
    "low_mort.dropna(inplace = True)\n",
    "print(\"Top 10 Countries with Lowest Adult Mortality are: \")\n",
    "print (low_mort.head(10))\n"
   ]
  },
  {
   "cell_type": "markdown",
   "metadata": {},
   "source": [
    "Q22. Countries whose literacy rate is best."
   ]
  },
  {
   "cell_type": "code",
   "execution_count": 70,
   "metadata": {},
   "outputs": [
    {
     "name": "stdout",
     "output_type": "stream",
     "text": [
      "Top 10 Countries with Highest Literacy Rate are: \n",
      "          Country  Schooling\n",
      "112     Australia       20.4\n",
      "737       Denmark       19.2\n",
      "1845  New Zealand       19.2\n",
      "1170      Iceland       19.0\n",
      "1250      Ireland       18.6\n",
      "1829  Netherlands       18.1\n",
      "1910       Norway       17.7\n",
      "2425        Spain       17.7\n",
      "2345     Slovenia       17.3\n",
      "80      Argentina       17.3\n"
     ]
    },
    {
     "name": "stderr",
     "output_type": "stream",
     "text": [
      "C:\\Softwares\\Python\\lib\\site-packages\\pandas\\util\\_decorators.py:311: SettingWithCopyWarning: \n",
      "A value is trying to be set on a copy of a slice from a DataFrame\n",
      "\n",
      "See the caveats in the documentation: https://pandas.pydata.org/pandas-docs/stable/user_guide/indexing.html#returning-a-view-versus-a-copy\n",
      "  return func(*args, **kwargs)\n"
     ]
    }
   ],
   "source": [
    "high_lit = df[['Country', 'Schooling']]\n",
    "high_lit.head()\n",
    "\n",
    "high_lit.drop_duplicates(subset = ['Country'], keep = 'first', inplace = True)\n",
    "high_lit.sort_values(ascending = False, by = \"Schooling\", inplace = True)\n",
    "print(\"Top 10 Countries with Highest Literacy Rate are: \")\n",
    "print (high_lit.head(10))\n"
   ]
  },
  {
   "cell_type": "markdown",
   "metadata": {},
   "source": [
    "Q23. Countries with lowest literacy rate."
   ]
  },
  {
   "cell_type": "code",
   "execution_count": 71,
   "metadata": {},
   "outputs": [
    {
     "name": "stdout",
     "output_type": "stream",
     "text": [
      "Top 10 Countries with Lowest Literacy Rate are: \n",
      "                       Country  Schooling\n",
      "2713                    Tuvalu        0.0\n",
      "1650          Marshall Islands        0.0\n",
      "2409               South Sudan        4.9\n",
      "850                    Eritrea        5.0\n",
      "1877                     Niger        5.4\n",
      "753                   Djibouti        6.3\n",
      "512   Central African Republic        7.1\n",
      "2457                     Sudan        7.2\n",
      "528                       Chad        7.3\n",
      "400               Burkina Faso        7.7\n"
     ]
    },
    {
     "name": "stderr",
     "output_type": "stream",
     "text": [
      "C:\\Softwares\\Python\\lib\\site-packages\\pandas\\util\\_decorators.py:311: SettingWithCopyWarning: \n",
      "A value is trying to be set on a copy of a slice from a DataFrame\n",
      "\n",
      "See the caveats in the documentation: https://pandas.pydata.org/pandas-docs/stable/user_guide/indexing.html#returning-a-view-versus-a-copy\n",
      "  return func(*args, **kwargs)\n"
     ]
    }
   ],
   "source": [
    "low_lit = df[['Country', 'Schooling']]\n",
    "low_lit.head()\n",
    "\n",
    "low_lit.drop_duplicates(subset = ['Country'], keep = 'first', inplace = True)\n",
    "low_lit.sort_values(ascending = True, by = \"Schooling\", inplace = True)\n",
    "low_lit.dropna(inplace = True)\n",
    "print(\"Top 10 Countries with Lowest Literacy Rate are: \")\n",
    "print (low_lit.head(10))"
   ]
  },
  {
   "cell_type": "markdown",
   "metadata": {},
   "source": [
    "Q24. In which Year the Total Expenditure is Lowest in India."
   ]
  },
  {
   "cell_type": "code",
   "execution_count": 72,
   "metadata": {},
   "outputs": [
    {
     "name": "stdout",
     "output_type": "stream",
     "text": [
      "Lowest Total Expenditure is India is in: \n",
      "     Country  Year  Total Expenditure\n",
      "1197   India  2004               4.22\n"
     ]
    }
   ],
   "source": [
    "lowest_exp = df[['Country', 'Year', 'Total Expenditure']]\n",
    "lowest_exp.head()\n",
    "\n",
    "lowest_exp = lowest_exp[lowest_exp['Country'] == 'India']\n",
    "lowest_exp.sort_values(ascending = True, by = \"Total Expenditure\", inplace = True)\n",
    "lowest_exp.dropna(inplace = True)\n",
    "print(\"Lowest Total Expenditure is India is in: \")\n",
    "print (lowest_exp.head(1))"
   ]
  },
  {
   "cell_type": "markdown",
   "metadata": {},
   "source": [
    "Q25. In which year the Income Composition of Resources is Highest in India."
   ]
  },
  {
   "cell_type": "code",
   "execution_count": 73,
   "metadata": {},
   "outputs": [
    {
     "name": "stdout",
     "output_type": "stream",
     "text": [
      "Highest Resources Income Composition in India is in: \n",
      "     Country  Year  Resources Income Composition\n",
      "1201   India  2000                         0.489\n"
     ]
    }
   ],
   "source": [
    "Income_Comp_High = df[['Country', 'Year', 'Resources Income Composition']]\n",
    "Income_Comp_High.head()\n",
    "\n",
    "Income_Comp_High = Income_Comp_High[Income_Comp_High['Country'] == 'India']\n",
    "Income_Comp_High.sort_values(ascending = True, by = \"Resources Income Composition\", inplace = True)\n",
    "Income_Comp_High.dropna(inplace = True)\n",
    "print(\"Highest Resources Income Composition in India is in: \")\n",
    "print (Income_Comp_High.head(1))"
   ]
  },
  {
   "cell_type": "markdown",
   "metadata": {},
   "source": [
    "Q26. How much the GDP has increased in the last 15 years in India."
   ]
  },
  {
   "cell_type": "code",
   "execution_count": 74,
   "metadata": {},
   "outputs": [
    {
     "name": "stdout",
     "output_type": "stream",
     "text": [
      "GDP Increase in the last 15 Years in India is:  0    1174.324146\n",
      "Name: GDP, dtype: float64\n"
     ]
    },
    {
     "name": "stderr",
     "output_type": "stream",
     "text": [
      "C:\\Softwares\\Python\\lib\\site-packages\\pandas\\core\\frame.py:4906: SettingWithCopyWarning: \n",
      "A value is trying to be set on a copy of a slice from a DataFrame\n",
      "\n",
      "See the caveats in the documentation: https://pandas.pydata.org/pandas-docs/stable/user_guide/indexing.html#returning-a-view-versus-a-copy\n",
      "  return super().drop(\n"
     ]
    }
   ],
   "source": [
    "Cntry = df[['Country', 'Year', 'GDP']]\n",
    "\n",
    "Cntry_India = Cntry[Cntry['Country'] == 'India']\n",
    "\n",
    "Country_2000 = Cntry_India[Cntry_India['Year'] == 2000]\n",
    "Country_2015 = Cntry_India[Cntry_India['Year'] == 2015]\n",
    "\n",
    "Country_2000.drop(['Country', 'Year'], axis = 1, inplace = True)\n",
    "Country_2015.drop(['Country', 'Year'], axis = 1, inplace = True)\n",
    "\n",
    "Country_2000.reset_index(drop = True, inplace = True)\n",
    "Country_2015.reset_index(drop = True, inplace = True)\n",
    "\n",
    "print('GDP Increase in the last 15 Years in India is: ', (Country_2015['GDP'] - Country_2000['GDP']))"
   ]
  },
  {
   "cell_type": "markdown",
   "metadata": {},
   "source": [
    "Q27. How many countries are Developed till the year 2015."
   ]
  },
  {
   "cell_type": "code",
   "execution_count": 75,
   "metadata": {},
   "outputs": [
    {
     "name": "stderr",
     "output_type": "stream",
     "text": [
      "C:\\Softwares\\Python\\lib\\site-packages\\pandas\\util\\_decorators.py:311: SettingWithCopyWarning: \n",
      "A value is trying to be set on a copy of a slice from a DataFrame\n",
      "\n",
      "See the caveats in the documentation: https://pandas.pydata.org/pandas-docs/stable/user_guide/indexing.html#returning-a-view-versus-a-copy\n",
      "  return func(*args, **kwargs)\n"
     ]
    },
    {
     "name": "stdout",
     "output_type": "stream",
     "text": [
      "Number of Developed Countries till 2015 is:  32\n",
      "List of Developed Countries till 2015:                                                  Country\n",
      "112                                           Australia\n",
      "128                                             Austria\n",
      "240                                             Belgium\n",
      "384                                            Bulgaria\n",
      "641                                             Croatia\n",
      "673                                              Cyprus\n",
      "689                                             Czechia\n",
      "737                                             Denmark\n",
      "994                                             Germany\n",
      "1154                                            Hungary\n",
      "1170                                            Iceland\n",
      "1250                                            Ireland\n",
      "1282                                              Italy\n",
      "1314                                              Japan\n",
      "1442                                             Latvia\n",
      "1522                                          Lithuania\n",
      "1538                                         Luxembourg\n",
      "1634                                              Malta\n",
      "1829                                        Netherlands\n",
      "1845                                        New Zealand\n",
      "1910                                             Norway\n",
      "2039                                             Poland\n",
      "2055                                           Portugal\n",
      "2119                                            Romania\n",
      "2313                                          Singapore\n",
      "2329                                           Slovakia\n",
      "2345                                           Slovenia\n",
      "2425                                              Spain\n",
      "2505                                             Sweden\n",
      "2521                                        Switzerland\n",
      "2762  United Kingdom of Great Britain and Northern I...\n",
      "2794                           United States of America\n"
     ]
    }
   ],
   "source": [
    "Developed = df[['Country', 'Status']]\n",
    "\n",
    "Developed.drop_duplicates(subset = ['Country'], keep = 'first', inplace = True)\n",
    "Developed_Country = Developed[Developed['Status'] == 'Developed']\n",
    "Developed_Country.drop(['Status'], axis = 1, inplace = True)\n",
    "\n",
    "print('Number of Developed Countries till 2015 is: ', Developed_Country.shape[0])\n",
    "print('List of Developed Countries till 2015: ', Developed_Country)"
   ]
  },
  {
   "cell_type": "markdown",
   "metadata": {},
   "source": [
    "Q28. List of Countries which has Developed in the last 15 Years."
   ]
  },
  {
   "cell_type": "code",
   "execution_count": 76,
   "metadata": {},
   "outputs": [
    {
     "name": "stdout",
     "output_type": "stream",
     "text": [
      "List of Countries which has Developed in the last 15 Years: \n",
      "None of the Country Developed in the Last 15 Years.\n"
     ]
    },
    {
     "name": "stderr",
     "output_type": "stream",
     "text": [
      "C:\\Softwares\\Python\\lib\\site-packages\\pandas\\util\\_decorators.py:311: SettingWithCopyWarning: \n",
      "A value is trying to be set on a copy of a slice from a DataFrame\n",
      "\n",
      "See the caveats in the documentation: https://pandas.pydata.org/pandas-docs/stable/user_guide/indexing.html#returning-a-view-versus-a-copy\n",
      "  return func(*args, **kwargs)\n"
     ]
    }
   ],
   "source": [
    "Developed_Cntry = df[['Country', 'Status']]\n",
    "\n",
    "Developed_Cntry.drop_duplicates(subset = ['Country', 'Status'], keep = False, inplace = True)\n",
    "Developed_Cntry = Developed_Cntry[Developed_Cntry['Status'] == 'Developed']\n",
    "print('List of Countries which has Developed in the last 15 Years: ')\n",
    "if Developed_Cntry.isnull:\n",
    "    print('None of the Country Developed in the Last 15 Years.')\n",
    "else:\n",
    "    print(Developed_Cntry)"
   ]
  },
  {
   "cell_type": "markdown",
   "metadata": {},
   "source": [
    "Q29. Draw a Graph of Year wise Schooling in India."
   ]
  },
  {
   "cell_type": "code",
   "execution_count": 77,
   "metadata": {},
   "outputs": [
    {
     "data": {
      "text/plain": [
       "Text(0.5, 1.0, 'Graph of Year wise Schooling in India')"
      ]
     },
     "execution_count": 77,
     "metadata": {},
     "output_type": "execute_result"
    },
    {
     "data": {
      "image/png": "[encoded data removed]",
      "text/plain": [
       "<Figure size 432x288 with 1 Axes>"
      ]
     },
     "metadata": {
      "needs_background": "light"
     },
     "output_type": "display_data"
    }
   ],
   "source": [
    "df_Country = df[['Country', 'Year', 'Schooling']]\n",
    "Country_India = df_Country[df_Country['Country'] == 'India']\n",
    "\n",
    "y = Country_India['Schooling']\n",
    "x = Country_India['Year']\n",
    "\n",
    "plt.plot(x, y)\n",
    "plt.xlabel('Year')\n",
    "plt.ylabel('Schooling')\n",
    "plt.title('Graph of Year wise Schooling in India')"
   ]
  },
  {
   "cell_type": "markdown",
   "metadata": {},
   "source": [
    "Q30. Draw a Graph of Life Expectancy of different Countries."
   ]
  },
  {
   "cell_type": "code",
   "execution_count": 80,
   "metadata": {},
   "outputs": [
    {
     "data": {
      "text/plain": [
       "Text(0.5, 1.0, 'Graph of Life Expectancy of Different Countries')"
      ]
     },
     "execution_count": 80,
     "metadata": {},
     "output_type": "execute_result"
    },
    {
     "data": {
      "image/png": "[encoded data removed]",
      "text/plain": [
       "<Figure size 432x288 with 1 Axes>"
      ]
     },
     "metadata": {
      "needs_background": "light"
     },
     "output_type": "display_data"
    }
   ],
   "source": [
    "df_Country = df[['Country', 'Year', 'Life Expectancy']]\n",
    "\n",
    "x = df_Country['Country']\n",
    "y = df_Country['Life Expectancy']\n",
    "\n",
    "plt.plot(x, y)\n",
    "plt.xlabel('Country')\n",
    "plt.xticks(rotation = -45)\n",
    "plt.ylabel('Life Expectancy')\n",
    "plt.title('Graph of Life Expectancy of Different Countries')"
   ]
  }
 ],
 "metadata": {
  "interpreter": {
   "hash": "2f51bf9cb278afceef5d4cc52e97c3444deabb65607901d53c1c79acda7962d4"
  },
  "kernelspec": {
   "display_name": "Python 3.9.7 64-bit",
   "language": "python",
   "name": "python3"
  },
  "language_info": {
   "codemirror_mode": {
    "name": "ipython",
    "version": 3
   },
   "file_extension": ".py",
   "mimetype": "text/x-python",
   "name": "python",
   "nbconvert_exporter": "python",
   "pygments_lexer": "ipython3",
   "version": "3.9.7"
  },
  "orig_nbformat": 4
 },
 "nbformat": 4,
 "nbformat_minor": 2
}
